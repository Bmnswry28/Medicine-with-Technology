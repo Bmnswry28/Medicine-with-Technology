{
 "cells": [
  {
   "cell_type": "markdown",
   "id": "7b9cd3a7-e012-4185-ad57-9e14bf0ccec9",
   "metadata": {},
   "source": [
    "## <center><b>چرا پایتون؟</b></center>"
   ]
  },
  {
   "cell_type": "markdown",
   "id": "149c5af8-f2ab-4275-a32a-f90d07dc9af5",
   "metadata": {},
   "source": [
    "<ol dir=\"rtl\">\n",
    "    <li>پایتون به دلیل سینتکس راحتی که دارد راحت کاربر را جذب خود می‌کند. سینتکس پایتون خیلی شبیه زبان انگلیسی و زبانی که ما صحبت می‌کنیم، است.</li>\n",
    "    <li>تنوع پایتون بسیار زیاد است، جوری که برای تغییر حوزه نیاز به تغییر زبان برنامه‌نویسی در ۸۰٪ مواقع ندارید و با یک سرچ فریمورک یا لایبری مورد نیاز آن کار را پیدا می‌کنید.</li>\n",
    "    <li>جامعه پایتون خیلی فعال است.</li>\n",
    "    <li>مهارت و تقاضای کار برای پایتون زیاد است.</li>\n",
    "    <li>امنیت و پایداری پایتون خیلی خوب است و کنترل خوبی بر خطاهای امنیتی دارد.</li>\n",
    "    <li>پایتون تطبیق‌پذیر است و به راحتی می‌تواند با زبان‌های دیگر کار کند.</li>\n",
    "</ol>"
   ]
  },
  {
   "cell_type": "markdown",
   "id": "8f5eee8c-10c4-4a5b-927c-5ad4a0d63818",
   "metadata": {},
   "source": [
    "## <center><b>سینتکس راحت</b></center>"
   ]
  },
  {
   "cell_type": "markdown",
   "id": "9e2ea990-46a2-4e5e-8b7b-3bb59842eee6",
   "metadata": {},
   "source": [
    "<h1 dir=\"rtl\">پایتون:</h1>"
   ]
  },
  {
   "cell_type": "code",
   "execution_count": 1,
   "id": "27cf42a3-835f-41a2-a65b-4446229c603c",
   "metadata": {},
   "outputs": [
    {
     "name": "stdout",
     "output_type": "stream",
     "text": [
      "Hello, World!\n"
     ]
    }
   ],
   "source": [
    "print(\"Hello, World!\")"
   ]
  },
  {
   "cell_type": "markdown",
   "id": "5112e1e0-8603-46a3-a9c1-aed33109800e",
   "metadata": {},
   "source": [
    "<h1 dir=\"ltr\">c++:</h1>"
   ]
  },
  {
   "cell_type": "code",
   "execution_count": 4,
   "id": "2136dc95-2d66-4758-b137-7fabf86e9fd4",
   "metadata": {},
   "outputs": [
    {
     "name": "stdout",
     "output_type": "stream",
     "text": [
      "Hello World!\n"
     ]
    }
   ],
   "source": [
    "#include <iostream>\n",
    "using namespace std;\n",
    "\n",
    "\n",
    "    cout << \"Hello World!\" << endl;\n",
    "    return 0;\n"
   ]
  },
  {
   "cell_type": "code",
   "execution_count": null,
   "id": "cc811788-df1b-45d4-bfb8-4a74fd3282da",
   "metadata": {},
   "outputs": [],
   "source": []
  },
  {
   "cell_type": "code",
   "execution_count": null,
   "id": "8dfce671-0679-4673-9ab3-e45407bb9e5d",
   "metadata": {},
   "outputs": [],
   "source": []
  }
 ],
 "metadata": {
  "kernelspec": {
   "display_name": "C++17",
   "language": "C++17",
   "name": "xcpp17"
  },
  "language_info": {
   "codemirror_mode": "text/x-c++src",
   "file_extension": ".cpp",
   "mimetype": "text/x-c++src",
   "name": "c++",
   "version": "17"
  }
 },
 "nbformat": 4,
 "nbformat_minor": 5
}
