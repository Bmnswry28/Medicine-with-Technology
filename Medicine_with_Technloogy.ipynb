{
 "cells": [
  {
   "cell_type": "markdown",
   "id": "7b9cd3a7-e012-4185-ad57-9e14bf0ccec9",
   "metadata": {},
   "source": [
    "## <center><b>چرا پایتون؟</b></center>"
   ]
  },
  {
   "cell_type": "markdown",
   "id": "149c5af8-f2ab-4275-a32a-f90d07dc9af5",
   "metadata": {},
   "source": [
    "<ol dir=\"rtl\">\n",
    "    <li>پایتون به دلیل سینتکس راحتی که دارد راحت کاربر را جذب خود می‌کند. سینتکس پایتون خیلی شبیه زبان انگلیسی و زبانی که ما صحبت می‌کنیم، است.</li>\n",
    "    <li>تنوع پایتون بسیار زیاد است، جوری که برای تغییر حوزه نیاز به تغییر زبان برنامه‌نویسی در ۸۰٪ مواقع ندارید و با یک سرچ فریمورک یا لایبری مورد نیاز آن کار را پیدا می‌کنید.</li>\n",
    "    <li>جامعه پایتون خیلی فعال است.</li>\n",
    "    <li>مهارت و تقاضای کار برای پایتون زیاد است.</li>\n",
    "    <li>امنیت و پایداری پایتون خیلی خوب است و کنترل خوبی بر خطاهای امنیتی دارد.</li>\n",
    "    <li>پایتون تطبیق‌پذیر است و به راحتی می‌تواند با زبان‌های دیگر کار کند.</li>\n",
    "</ol>"
   ]
  },
  {
   "cell_type": "markdown",
   "id": "8f5eee8c-10c4-4a5b-927c-5ad4a0d63818",
   "metadata": {},
   "source": [
    "## <center><b>سینتکس راحت</b></center>"
   ]
  },
  {
   "cell_type": "markdown",
   "id": "9e2ea990-46a2-4e5e-8b7b-3bb59842eee6",
   "metadata": {},
   "source": [
    "<h1 dir=\"rtl\">پایتون:</h1>"
   ]
  },
  {
   "cell_type": "code",
   "execution_count": null,
   "id": "987f4441-7b4e-4a1e-991c-39874d9c42c2",
   "metadata": {},
   "outputs": [],
   "source": [
    "print(\"Hello,World!\")"
   ]
  },
  {
   "cell_type": "markdown",
   "id": "5112e1e0-8603-46a3-a9c1-aed33109800e",
   "metadata": {},
   "source": [
    "<h1 dir=\"ltr\">c++:</h1>"
   ]
  },
  {
   "cell_type": "code",
   "execution_count": null,
   "id": "3f96bc38-725a-4c53-affa-2856bb85a6af",
   "metadata": {},
   "outputs": [],
   "source": [
    "#include <iostream>\n",
    "using namespace std;\n",
    "  cout << \"Hello World!\";\n",
    "  return 0;"
   ]
  },
  {
   "cell_type": "markdown",
   "id": "eebee4d8-f03b-4101-90ad-88873a9260a4",
   "metadata": {},
   "source": [
    "<h1 dir='rtl'>جاوا اسکریپت:</h1>"
   ]
  },
  {
   "cell_type": "code",
   "execution_count": null,
   "id": "cc811788-df1b-45d4-bfb8-4a74fd3282da",
   "metadata": {},
   "outputs": [],
   "source": [
    "console.log(\"Hello,World!\")"
   ]
  },
  {
   "cell_type": "markdown",
   "id": "a1c301bc-b05b-4a23-a7ee-d7026d826251",
   "metadata": {},
   "source": [
    "## <center><b>تنوع پایتون</b></center>"
   ]
  },
  {
   "cell_type": "markdown",
   "id": "2d7d1d9a-6cd0-4e05-a37f-f826ea25aeca",
   "metadata": {},
   "source": [
    "<h2 dir=\"rtl\">اجازه بدید تنوع رو با مثال به شما نشون بدم</h2|>"
   ]
  },
  {
   "cell_type": "markdown",
   "id": "bf1a02d4-1653-426a-b458-6637532e5e6d",
   "metadata": {},
   "source": [
    "<h3 dir='rtl'>یادگیری ماشین:</h3>"
   ]
  },
  {
   "cell_type": "code",
   "execution_count": null,
   "id": "6e928b75-c2d8-430c-9c04-f72f7d60f851",
   "metadata": {},
   "outputs": [],
   "source": [
    "import matplotlib.pyplot as plt\n",
    "from scipy import stats"
   ]
  },
  {
   "cell_type": "code",
   "execution_count": null,
   "id": "d30009ec-e601-4b24-befc-6fd380b80aba",
   "metadata": {},
   "outputs": [],
   "source": [
    "x = [5,7,8,7,2,17,2,9,4,11,12,9,6]\n",
    "y = [99,86,87,88,111,86,103,87,94,78,77,85,86]"
   ]
  },
  {
   "cell_type": "code",
   "execution_count": null,
   "id": "da864e2e-2116-43ec-8281-7e0f747eb054",
   "metadata": {},
   "outputs": [],
   "source": [
    "slope, intercept, r, p, std_err = stats.linregress(x, y)"
   ]
  },
  {
   "cell_type": "code",
   "execution_count": null,
   "id": "fe5ce78a-7bbd-4986-84be-38e9bc1eebc9",
   "metadata": {},
   "outputs": [],
   "source": [
    "def myfunc(x):\n",
    "  return slope * x + intercept\n",
    "\n",
    "mymodel = list(map(myfunc, x))\n",
    "\n",
    "plt.scatter(x, y)\n",
    "plt.plot(x, mymodel)\n",
    "plt.show()"
   ]
  },
  {
   "cell_type": "code",
   "execution_count": null,
   "id": "c2aa480d-64b0-4467-b7d1-83e171d74dab",
   "metadata": {},
   "outputs": [],
   "source": [
    "import numpy\n",
    "\n",
    "x = [1,2,3,5,6,7,8,9,10,12,13,14,15,16,18,19,21,22]\n",
    "y = [100,90,80,60,60,55,60,65,70,70,75,76,78,79,90,99,99,100]\n",
    "\n",
    "mymodel = numpy.poly1d(numpy.polyfit(x, y, 3))\n",
    "\n",
    "myline = numpy.linspace(1, 22, 100)\n",
    "\n",
    "plt.scatter(x, y)\n",
    "plt.plot(myline, mymodel(myline))\n",
    "plt.show()"
   ]
  },
  {
   "cell_type": "markdown",
   "id": "0d08b2fc-2ddf-4ff1-9a64-d84c597afb10",
   "metadata": {},
   "source": [
    "<h3 dir='rtl'>پردازش زبان طبیعی:</h3>"
   ]
  },
  {
   "cell_type": "code",
   "execution_count": null,
   "id": "aeccdf72-b393-42fe-924b-0dce5917d6f9",
   "metadata": {},
   "outputs": [],
   "source": [
    "import re\n",
    "from collections import Counter\n",
    "import matplotlib.pyplot as plt"
   ]
  },
  {
   "cell_type": "code",
   "execution_count": null,
   "id": "cfcf3e15-0614-4d50-a21c-da7617f65f3a",
   "metadata": {},
   "outputs": [],
   "source": [
    "text = \"\"\"\n",
    "پردازش زبان طبیعی یکی از شاخه‌های هوش مصنوعی و علوم کامپیوتر است که به تعامل بین کامپیوترها و زبان‌های انسانی می‌پردازد. هدف اصلی پردازش زبان طبیعی، توانمند ساختن کامپیوترها برای درک، تفسیر و تولید زبان انسانی است.\n",
    "\"\"\""
   ]
  },
  {
   "cell_type": "code",
   "execution_count": null,
   "id": "b0b68751-a288-4564-93c9-24cd416a61c8",
   "metadata": {},
   "outputs": [],
   "source": [
    "words = re.findall(r'\\b\\w+\\b', text)"
   ]
  },
  {
   "cell_type": "code",
   "execution_count": null,
   "id": "5734485f-3e9c-44f9-bbff-b1252ab3ddb1",
   "metadata": {},
   "outputs": [],
   "source": [
    "stop_words = set(['و', 'است', 'که', 'به', 'از', 'در', 'برای', 'با', 'را', 'این'])"
   ]
  },
  {
   "cell_type": "code",
   "execution_count": null,
   "id": "ba92d133-8c44-4297-8fb5-26efe5148c7d",
   "metadata": {},
   "outputs": [],
   "source": [
    "filtered_words = [word for word in words if word.lower() not in stop_words]"
   ]
  },
  {
   "cell_type": "code",
   "execution_count": null,
   "id": "96ee6fe0-6e10-44ee-a656-d34bdf33c640",
   "metadata": {},
   "outputs": [],
   "source": [
    "word_freq = Counter(filtered_words)"
   ]
  },
  {
   "cell_type": "code",
   "execution_count": null,
   "id": "bfeae952-c8d4-44e1-bf65-b0cf2154e1ae",
   "metadata": {},
   "outputs": [],
   "source": [
    "top_words = word_freq.most_common(10)"
   ]
  },
  {
   "cell_type": "code",
   "execution_count": null,
   "id": "50ca5093-1620-445d-8f81-bd15e78bcf6c",
   "metadata": {},
   "outputs": [],
   "source": [
    "plt.figure(figsize=(12, 6))\n",
    "plt.bar([word for word, freq in top_words], [freq for word, freq in top_words])\n",
    "plt.title('10 کلمه پرتکرار')\n",
    "plt.xlabel('کلمات')\n",
    "plt.ylabel('تعداد تکرار')\n",
    "plt.xticks(rotation=45, ha='right')\n",
    "plt.tight_layout()\n",
    "plt.show()\n",
    "\n",
    "print(\"تعداد کل کلمات:\", len(words))\n",
    "print(\"تعداد کلمات پس از حذف کلمات ایست:\", len(filtered_words))\n",
    "print(\"\\n10 کلمه پرتکرار:\")\n",
    "for word, freq in top_words:\n",
    "    print(f\"{word}: {freq}\")"
   ]
  },
  {
   "cell_type": "markdown",
   "id": "ff3d8d28-0028-41ce-a8bd-12ec311f2683",
   "metadata": {},
   "source": [
    "## <center><b>باگ</b></center>"
   ]
  },
  {
   "attachments": {},
   "cell_type": "markdown",
   "id": "708bf672-91c9-438e-a3b4-70ffed63ced2",
   "metadata": {},
   "source": [
    "<center><img src=\"./img9.jpg\" height=100% width=100%></center>"
   ]
  },
  {
   "cell_type": "code",
   "execution_count": null,
   "id": "7d501a11-ebf0-4a8a-a1da-737d5a6cbab4",
   "metadata": {},
   "outputs": [],
   "source": []
  }
 ],
 "metadata": {
  "kernelspec": {
   "display_name": "Python 3 (ipykernel)",
   "language": "python",
   "name": "python3"
  },
  "language_info": {
   "codemirror_mode": {
    "name": "ipython",
    "version": 3
   },
   "file_extension": ".py",
   "mimetype": "text/x-python",
   "name": "python",
   "nbconvert_exporter": "python",
   "pygments_lexer": "ipython3",
   "version": "3.8.19"
  }
 },
 "nbformat": 4,
 "nbformat_minor": 5
}
